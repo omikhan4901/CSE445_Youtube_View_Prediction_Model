{
 "cells": [
  {
   "cell_type": "markdown",
   "metadata": {
    "id": "m_Wl6s6F3ys1"
   },
   "source": []
  },
  {
   "cell_type": "markdown",
   "metadata": {
    "id": "IZXh-Myy3z1W"
   },
   "source": [
    "# YouTube Channel View Prediction: Ensemble Learning in Google Colab\n",
    "This Jupyter Notebook documents the process of building and evaluating machine learning models, specifically focusing on combining XGBoost and Random Forest using an **averaging ensemble method**. It includes data preprocessing, logarithmic transformation of the target, hyperparameter tuning, and evaluation of the ensemble model on the original scale of video views.\n",
    "\n",
    "## 1. Setup and Library Imports\n",
    "This section imports all necessary Python libraries for data manipulation, machine learning, and evaluation. We also suppress warnings for cleaner output."
   ]
  },
  {
   "cell_type": "code",
   "execution_count": 1,
   "metadata": {
    "colab": {
     "base_uri": "https://localhost:8080/"
    },
    "id": "yibxGpGa3_hY",
    "outputId": "2d00b851-770f-424f-aa24-f652247106db"
   },
   "outputs": [
    {
     "name": "stdout",
     "output_type": "stream",
     "text": [
      "Libraries imported successfully!\n"
     ]
    }
   ],
   "source": [
    "import pandas as pd\n",
    "from sklearn.model_selection import train_test_split, cross_val_score, GridSearchCV, RandomizedSearchCV\n",
    "from sklearn.preprocessing import LabelEncoder, StandardScaler\n",
    "from sklearn.svm import SVR\n",
    "from sklearn.ensemble import RandomForestRegressor\n",
    "from xgboost import XGBRegressor\n",
    "from sklearn.metrics import mean_absolute_error, r2_score, make_scorer\n",
    "import numpy as np # Import numpy for log transformation and ensemble averaging\n",
    "import warnings\n",
    "\n",
    "# Suppress warnings for cleaner output\n",
    "warnings.filterwarnings('ignore')\n",
    "\n",
    "print(\"Libraries imported successfully!\")\n"
   ]
  },
  {
   "cell_type": "markdown",
   "metadata": {
    "id": "ZJDde0wH4BVS"
   },
   "source": [
    "## 2. Data Loading\n",
    "Here, we'll load the \"Global YouTube Statistics\" dataset into a Pandas DataFrame. Before running this cell, make sure you've uploaded your `Global-YouTube-Statistics.csv` file to your Colab environment or mounted your Google Drive.\n",
    "\n",
    "If you chose to upload the file directly to Colab, it will reside in the current session's /content/ directory."
   ]
  },
  {
   "cell_type": "code",
   "execution_count": 2,
   "metadata": {
    "colab": {
     "base_uri": "https://localhost:8080/"
    },
    "id": "9PKt3I1A4He6",
    "outputId": "5f1b1e5b-9e6f-4b4e-9dd2-629199a669f5"
   },
   "outputs": [
    {
     "name": "stdout",
     "output_type": "stream",
     "text": [
      "Loading Data...\n",
      "Dataset loaded successfully.\n",
      "Initial shape: (995, 28)\n",
      "Columns: ['rank', 'Youtuber', 'subscribers', 'video views', 'category', 'Title', 'uploads', 'Country', 'Abbreviation', 'channel_type', 'video_views_rank', 'country_rank', 'channel_type_rank', 'video_views_for_the_last_30_days', 'lowest_monthly_earnings', 'highest_monthly_earnings', 'lowest_yearly_earnings', 'highest_yearly_earnings', 'subscribers_for_last_30_days', 'created_year', 'created_month', 'created_date', 'Gross tertiary education enrollment (%)', 'Population', 'Unemployment rate', 'Urban_population', 'Latitude', 'Longitude']\n",
      "\n",
      "First 5 rows of the dataset:\n",
      "   rank                    Youtuber  subscribers   video views  \\\n",
      "0     1                    T-Series    245000000  2.280000e+11   \n",
      "1     2              YouTube Movies    170000000  0.000000e+00   \n",
      "2     3                     MrBeast    166000000  2.836884e+10   \n",
      "3     4  Cocomelon - Nursery Rhymes    162000000  1.640000e+11   \n",
      "4     5                   SET India    159000000  1.480000e+11   \n",
      "\n",
      "           category                       Title  uploads        Country  \\\n",
      "0             Music                    T-Series    20082          India   \n",
      "1  Film & Animation               youtubemovies        1  United States   \n",
      "2     Entertainment                     MrBeast      741  United States   \n",
      "3         Education  Cocomelon - Nursery Rhymes      966  United States   \n",
      "4             Shows                   SET India   116536          India   \n",
      "\n",
      "  Abbreviation   channel_type  ...  subscribers_for_last_30_days  \\\n",
      "0           IN          Music  ...                     2000000.0   \n",
      "1           US          Games  ...                           NaN   \n",
      "2           US  Entertainment  ...                     8000000.0   \n",
      "3           US      Education  ...                     1000000.0   \n",
      "4           IN  Entertainment  ...                     1000000.0   \n",
      "\n",
      "   created_year  created_month  created_date  \\\n",
      "0        2006.0            Mar          13.0   \n",
      "1        2006.0            Mar           5.0   \n",
      "2        2012.0            Feb          20.0   \n",
      "3        2006.0            Sep           1.0   \n",
      "4        2006.0            Sep          20.0   \n",
      "\n",
      "   Gross tertiary education enrollment (%)    Population  Unemployment rate  \\\n",
      "0                                     28.1  1.366418e+09               5.36   \n",
      "1                                     88.2  3.282395e+08              14.70   \n",
      "2                                     88.2  3.282395e+08              14.70   \n",
      "3                                     88.2  3.282395e+08              14.70   \n",
      "4                                     28.1  1.366418e+09               5.36   \n",
      "\n",
      "   Urban_population   Latitude  Longitude  \n",
      "0       471031528.0  20.593684  78.962880  \n",
      "1       270663028.0  37.090240 -95.712891  \n",
      "2       270663028.0  37.090240 -95.712891  \n",
      "3       270663028.0  37.090240 -95.712891  \n",
      "4       471031528.0  20.593684  78.962880  \n",
      "\n",
      "[5 rows x 28 columns]\n"
     ]
    }
   ],
   "source": [
    "# --- 1. Load Data ---\n",
    "print(\"Loading Data...\")\n",
    "try:\n",
    "    # Option 1: If you uploaded the file directly to Colab (e.g., using files.upload())\n",
    "    # The file will be in the default content directory.\n",
    "    # Try different encodings if 'utf-8' fails. Common alternatives are 'latin1' or 'cp1252'.\n",
    "    df = pd.read_csv('./Global-YouTube-Statistics.csv', encoding='latin1')\n",
    "\n",
    "    # If 'latin1' doesn't work, try 'cp1252':\n",
    "    # df = pd.read_csv('Global-YouTube-Statistics.csv', encoding='cp1252')\n",
    "\n",
    "    # Option 2: If you mounted Google Drive (uncomment and adjust path if needed)\n",
    "    # from google.colab import drive\n",
    "    # drive.mount('/content/drive')\n",
    "    # df = pd.read_csv('/content/drive/MyDrive/path/to/Global-YouTube-Statistics.csv', encoding='latin1') # <--- ADJUST THIS PATH AND ADD ENCODING\n",
    "\n",
    "    print(\"Dataset loaded successfully.\")\n",
    "    print(f\"Initial shape: {df.shape}\")\n",
    "    print(\"Columns:\", df.columns.tolist())\n",
    "    print(\"\\nFirst 5 rows of the dataset:\")\n",
    "    print(df.head())\n",
    "except FileNotFoundError:\n",
    "    print(\"Error: 'Global-YouTube-Statistics.csv' not found. Please ensure the file is in the correct directory or uploaded.\")\n",
    "    print(\"If you just uploaded it, restart the kernel and try again, or check the file name carefully.\")\n",
    "except Exception as e:\n",
    "    print(f\"An error occurred while loading the dataset: {e}\")\n",
    "    print(\"Consider trying a different 'encoding' parameter in pd.read_csv() if the error persists (e.g., encoding='cp1252').\")\n",
    "\n"
   ]
  },
  {
   "cell_type": "markdown",
   "metadata": {
    "id": "OsMeQPRy4I9Y"
   },
   "source": [
    "## 3. Data Preprocessing and Feature Engineering\n",
    "This is a crucial step where we clean the data, handle missing values, and transform features into a format suitable for machine learning models.\n",
    "\n",
    "### Handling Missing Values\n",
    "We'll fill missing numerical values with the column's median and missing categorical values with the mode. This prevents errors during model training."
   ]
  },
  {
   "cell_type": "code",
   "execution_count": 3,
   "metadata": {
    "colab": {
     "base_uri": "https://localhost:8080/"
    },
    "id": "dfV2mMTv4OWC",
    "outputId": "8300585e-22fb-4004-897a-46f25e88485d"
   },
   "outputs": [
    {
     "name": "stdout",
     "output_type": "stream",
     "text": [
      "Handling missing values...\n",
      "  Filled missing values in 'video_views_rank' with median: 915.5\n",
      "  Filled missing values in 'country_rank' with median: 51.0\n",
      "  Filled missing values in 'channel_type_rank' with median: 65.5\n",
      "  Filled missing values in 'video_views_for_the_last_30_days' with median: 64085000.0\n",
      "  Filled missing values in 'subscribers_for_last_30_days' with median: 200000.0\n",
      "  Filled missing values in 'created_year' with median: 2013.0\n",
      "  Filled missing values in 'created_date' with median: 16.0\n",
      "  Filled missing values in 'Gross tertiary education enrollment (%)' with median: 68.0\n",
      "  Filled missing values in 'Population' with median: 328239523.0\n",
      "  Filled missing values in 'Unemployment rate' with median: 9.365\n",
      "  Filled missing values in 'Urban_population' with median: 270663028.0\n",
      "  Filled missing values in 'Latitude' with median: 37.09024\n",
      "  Filled missing values in 'Longitude' with median: -51.92528\n",
      "  Filled missing values in 'category' with mode: Entertainment\n",
      "  Filled missing values in 'Country' with mode: United States\n",
      "  Filled missing values in 'Abbreviation' with mode: US\n",
      "  Filled missing values in 'channel_type' with mode: Entertainment\n",
      "  Filled missing values in 'created_month' with mode: Jan\n",
      "Shape after handling NaNs/Infs: (995, 28)\n"
     ]
    }
   ],
   "source": [
    "print(\"Handling missing values...\")\n",
    "# For numerical columns, fill with median\n",
    "numerical_cols = df.select_dtypes(include=np.number).columns.tolist()\n",
    "for col in numerical_cols:\n",
    "    if df[col].isnull().any():\n",
    "        median_val = df[col].median()\n",
    "        df[col] = df[col].fillna(median_val)\n",
    "        print(f\"  Filled missing values in '{col}' with median: {median_val}\")\n",
    "\n",
    "# For categorical columns, fill with mode\n",
    "categorical_cols = df.select_dtypes(include='object').columns.tolist()\n",
    "for col in categorical_cols:\n",
    "    if df[col].isnull().any():\n",
    "        mode_val = df[col].mode()[0]\n",
    "        df[col] = df[col].fillna(mode_val)\n",
    "        print(f\"  Filled missing values in '{col}' with mode: {mode_val}\")\n",
    "\n",
    "# Ensure no remaining NaN/infinite values before proceeding\n",
    "df.replace([np.inf, -np.inf], np.nan, inplace=True)\n",
    "df.dropna(inplace=True)\n",
    "print(f\"Shape after handling NaNs/Infs: {df.shape}\")\n",
    "\n"
   ]
  },
  {
   "cell_type": "markdown",
   "metadata": {
    "id": "zqDzvRGg4Qjw"
   },
   "source": [
    "### Feature Creation: `created_date_numeric`\n",
    "We combine `created_year` and `created_month` into a single numerical feature to represent the channel's creation timeline."
   ]
  },
  {
   "cell_type": "code",
   "execution_count": 4,
   "metadata": {
    "colab": {
     "base_uri": "https://localhost:8080/"
    },
    "id": "Dt2wvUsd4Tf2",
    "outputId": "4474a94e-83fd-4569-d0e3-faec00584c5b"
   },
   "outputs": [
    {
     "name": "stdout",
     "output_type": "stream",
     "text": [
      "Created 'created_date_numeric' feature.\n"
     ]
    }
   ],
   "source": [
    "# Feature Engineering: Combine created_year and created_month into a single numerical feature\n",
    "# Convert month abbreviations to numerical month (1-12)\n",
    "df['created_month_numeric'] = df['created_month'].apply(lambda x: pd.to_datetime(x, format='%b').month)\n",
    "df['created_date_numeric'] = df['created_year'] + (df['created_month_numeric'] / 12)\n",
    "print(\"Created 'created_date_numeric' feature.\")\n",
    "\n"
   ]
  },
  {
   "cell_type": "markdown",
   "metadata": {
    "id": "uxGA0sIK4Uv-"
   },
   "source": [
    "### Categorical Feature Encoding\n",
    "Categorical features like `category` and `Country` need to be converted into numerical representations. We'll use `LabelEncoder` for this."
   ]
  },
  {
   "cell_type": "code",
   "execution_count": 5,
   "metadata": {
    "colab": {
     "base_uri": "https://localhost:8080/"
    },
    "id": "ZYjptM_l4jBA",
    "outputId": "07bc5a62-d9e1-4355-fa90-5c658effa220"
   },
   "outputs": [
    {
     "name": "stdout",
     "output_type": "stream",
     "text": [
      "Encoding categorical features...\n",
      "  Encoded 'category' into 'category_encoded'.\n",
      "  Encoded 'Country' into 'Country_encoded'.\n",
      "  Encoded 'channel_type' into 'channel_type_encoded'.\n"
     ]
    }
   ],
   "source": [
    "print(\"Encoding categorical features...\")\n",
    "label_encoders = {}\n",
    "for col in ['category', 'Country', 'channel_type']: # 'created_month' is now used in 'created_date_numeric'\n",
    "    if col in df.columns:\n",
    "        le = LabelEncoder()\n",
    "        df[col + '_encoded'] = le.fit_transform(df[col])\n",
    "        label_encoders[col] = le\n",
    "        print(f\"  Encoded '{col}' into '{col}_encoded'.\")\n",
    "    else:\n",
    "        print(f\"  Warning: Column '{col}' not found for encoding.\")\n"
   ]
  },
  {
   "cell_type": "markdown",
   "metadata": {
    "id": "Z9UUPKQT4kpW"
   },
   "source": [
    "### Feature and Target Selection (with Log Transformation)\n",
    "We define the set of input features (X) and apply a logarithmic transformation to the `video views` target variable (y). This helps to handle the skewed distribution often found in view counts, which can significantly improve model performance and make evaluation metrics more meaningful."
   ]
  },
  {
   "cell_type": "code",
   "execution_count": 6,
   "metadata": {
    "colab": {
     "base_uri": "https://localhost:8080/"
    },
    "id": "hjp_EyEm4pug",
    "outputId": "cb76e451-1dc1-43ea-d4b4-7093abaca635"
   },
   "outputs": [
    {
     "name": "stdout",
     "output_type": "stream",
     "text": [
      "Applied log1p transformation to the target variable 'video views'.\n",
      "Remember to use np.expm1() on predictions to convert them back to the original scale.\n",
      "Selected 9 features and target 'video views'.\n",
      "X shape: (995, 9), y shape: (995,)\n"
     ]
    }
   ],
   "source": [
    "# Select features and target variable\n",
    "# MODIFIED: Using a selected subset of features (e.g., top 10 from previous analysis)\n",
    "features = [\n",
    "    'subscribers',\n",
    "    'video_views_rank',\n",
    "    'created_date_numeric',\n",
    "    'channel_type_rank',\n",
    "    'uploads',\n",
    "    'video_views_for_the_last_30_days',\n",
    "    'subscribers_for_last_30_days',\n",
    "    'category_encoded',\n",
    "    'lowest_yearly_earnings'\n",
    "]\n",
    "\n",
    "\n",
    "# Ensure all selected features exist in the DataFrame\n",
    "existing_features = [f for f in features if f in df.columns]\n",
    "if len(existing_features) != len(features):\n",
    "    missing = set(features) - set(existing_features)\n",
    "    print(f\"Warning: The following features were not found in the dataset and will be excluded: {missing}\")\n",
    "    features = existing_features\n",
    "\n",
    "target = 'video views' # Your chosen target\n",
    "\n",
    "X = df[features]\n",
    "# Apply logarithmic transformation (log1p to handle zero values gracefully)\n",
    "y = np.log1p(df[target])\n",
    "print(f\"Applied log1p transformation to the target variable '{target}'.\")\n",
    "print(\"Remember to use np.expm1() on predictions to convert them back to the original scale.\")\n",
    "\n",
    "print(f\"Selected {len(features)} features and target '{target}'.\")\n",
    "print(f\"X shape: {X.shape}, y shape: {y.shape}\")\n"
   ]
  },
  {
   "cell_type": "markdown",
   "metadata": {
    "id": "AzW1Fiyj4shU"
   },
   "source": [
    "### Feature Scaling\n",
    "Numerical features are scaled using `StandardScaler` to normalize their range. This is particularly important for SVR and can improve the performance of tree-based models as well."
   ]
  },
  {
   "cell_type": "code",
   "execution_count": 7,
   "metadata": {
    "colab": {
     "base_uri": "https://localhost:8080/"
    },
    "id": "JxMwPn5k4voA",
    "outputId": "c710db94-cdb3-40c6-fb3e-4c48557cd21c"
   },
   "outputs": [
    {
     "name": "stdout",
     "output_type": "stream",
     "text": [
      "Scaling numerical features...\n",
      "Numerical features scaled.\n",
      "\n",
      "First 5 rows of the scaled feature set (X):\n",
      "   subscribers  video_views_rank  created_date_numeric  channel_type_rank  \\\n",
      "0    12.674193         -0.406670             -1.536414          -0.377155   \n",
      "1     8.392710          2.571724             -1.536414           3.499058   \n",
      "2     8.164364         -0.406636             -0.222450          -0.377155   \n",
      "3     7.936019         -0.406670             -1.425374          -0.377155   \n",
      "4     7.764759         -0.406669             -1.425374          -0.376633   \n",
      "\n",
      "    uploads  video_views_for_the_last_30_days  subscribers_for_last_30_days  \\\n",
      "0  0.319178                          5.156029                      3.374616   \n",
      "1 -0.269118                         -0.418012                     -0.195539   \n",
      "2 -0.247439                          2.909626                     15.275134   \n",
      "3 -0.240847                          4.457422                      1.391196   \n",
      "4  3.144908                          4.084667                      1.391196   \n",
      "\n",
      "   category_encoded  lowest_yearly_earnings  \n",
      "0          0.573658                7.385997  \n",
      "1         -0.542801               -0.513785  \n",
      "2         -0.821916                4.133146  \n",
      "3         -1.101030                6.340438  \n",
      "4          2.248346                5.875745  \n"
     ]
    }
   ],
   "source": [
    "print(\"Scaling numerical features...\")\n",
    "scaler = StandardScaler()\n",
    "numerical_features_to_scale = X.select_dtypes(include=np.number).columns.tolist()\n",
    "X[numerical_features_to_scale] = scaler.fit_transform(X[numerical_features_to_scale])\n",
    "print(\"Numerical features scaled.\")\n",
    "print(\"\\nFirst 5 rows of the scaled feature set (X):\")\n",
    "print(X.head())\n"
   ]
  },
  {
   "cell_type": "markdown",
   "metadata": {
    "id": "8i5hdjzy4x_9"
   },
   "source": [
    "## 4. Data Splitting (No Longer for Primary Evaluation)\n",
    "While we traditionally split data into training and testing, for k-fold cross-validation and hyperparameter tuning, we will use the entire dataset for evaluation. The `train_test_split` is not directly needed for the primary evaluation with `cross_val_score`, as `cross_val_score` handles the internal splitting for evaluation. However, if you intend to train a final model on the full dataset after evaluating with cross-validation, or to perform hyperparameter tuning with a separate validation set, `train_test_split` could still be used. For now, we'll proceed directly to cross-validation."
   ]
  },
  {
   "cell_type": "code",
   "execution_count": 8,
   "metadata": {
    "colab": {
     "base_uri": "https://localhost:8080/"
    },
    "id": "zybp19ec454G",
    "outputId": "a023fc3e-13a8-493e-b096-745ecdd96f80"
   },
   "outputs": [
    {
     "name": "stdout",
     "output_type": "stream",
     "text": [
      "Proceeding to K-Fold Cross-Validation and Hyperparameter Tuning for robust model evaluation.\n"
     ]
    }
   ],
   "source": [
    "# The following lines are commented out as cross_val_score uses the full dataset for internal splits.\n",
    "# If you plan to use a dedicated test set AFTER cross-validation for a final, unbiased evaluation\n",
    "# of the *best* model (e.g., after hyperparameter tuning), you would uncomment and use this split.\n",
    "# X_train, X_test, y_train, y_test = train_test_split(X, y, test_size=0.2, random_state=42)\n",
    "# print(f\"Training set shape: X_train={X_train.shape}, y_train={y_train.shape}\")\n",
    "# print(f\"Testing set shape: X_test={X_test.shape}, y_test={y_test.shape}\")\n",
    "\n",
    "print(\"Proceeding to K-Fold Cross-Validation and Hyperparameter Tuning for robust model evaluation.\")\n",
    "\n"
   ]
  },
  {
   "cell_type": "markdown",
   "metadata": {
    "id": "g7Dh4YVK47lc"
   },
   "source": [
    "## 5. Model Training and Evaluation with K-Fold Cross-Validation\n",
    "This section performs k-fold cross-validation for each of your chosen models (XGBoost, Random Forest, SVR). This provides a more reliable estimate of model performance than a single train/test split. We'll then proceed to fine-tune XGBoost and Random Forest using Grid Search and Randomized Search.\n",
    "\n",
    "We'll use R-squared as the primary scoring metric, and also display Mean Absolute Error (MAE)."
   ]
  },
  {
   "cell_type": "code",
   "execution_count": 9,
   "metadata": {
    "colab": {
     "base_uri": "https://localhost:8080/"
    },
    "id": "Te6vXVdf4_j3",
    "outputId": "4a623a30-3adf-41f4-d0dc-3296fd72deb2"
   },
   "outputs": [
    {
     "name": "stdout",
     "output_type": "stream",
     "text": [
      "5.1 Initial K-Fold Cross-Validation (Baseline) ...\n",
      "Performing 5-fold cross-validation for each model...\n",
      "\n",
      "  Evaluating XGBoost model...\n",
      "    XGBoost - Mean R-squared (R2): 0.4052 (Std: 0.2044)\n",
      "    XGBoost - Mean Absolute Error (MAE) (log-scale): 0.3696 (Std: 0.2202)\n",
      "  Evaluating Random Forest model...\n",
      "    Random Forest - Mean R-squared (R2): 0.0224 (Std: 0.4569)\n",
      "    Random Forest - Mean Absolute Error (MAE) (log-scale): 0.4249 (Std: 0.2094)\n",
      "  Evaluating SVR model...\n",
      "    SVR - Mean R-squared (R2): 0.0390 (Std: 0.0709)\n",
      "    SVR - Mean Absolute Error (MAE) (log-scale): 0.7111 (Std: 0.2965)\n",
      "\n",
      "--- Summary of Initial K-Fold Cross-Validation Performance ---\n",
      "Model: XGBoost\n",
      "  Mean R2: 0.4052 (Std: 0.2044)\n",
      "  Mean MAE (log-scale): 0.3696 (Std: 0.2202)\n",
      "------------------------------\n",
      "Model: Random Forest\n",
      "  Mean R2: 0.0224 (Std: 0.4569)\n",
      "  Mean MAE (log-scale): 0.4249 (Std: 0.2094)\n",
      "------------------------------\n",
      "Model: SVR\n",
      "  Mean R2: 0.0390 (Std: 0.0709)\n",
      "  Mean MAE (log-scale): 0.7111 (Std: 0.2965)\n",
      "------------------------------\n",
      "\n",
      "Initial K-Fold Cross-Validation finished. Proceeding to Hyperparameter Tuning.\n"
     ]
    }
   ],
   "source": [
    "# --- 5.1 Initial K-Fold Cross-Validation (Baseline) ---\n",
    "print(\"5.1 Initial K-Fold Cross-Validation (Baseline) ...\")\n",
    "\n",
    "models = {\n",
    "    'XGBoost': XGBRegressor(random_state=42),\n",
    "    'Random Forest': RandomForestRegressor(random_state=42),\n",
    "    'SVR': SVR()\n",
    "}\n",
    "\n",
    "cv_results = {}\n",
    "n_splits = 5 # Number of folds for cross-validation\n",
    "\n",
    "# Define a scorer for Mean Absolute Error (MAE)\n",
    "# Note: For log-transformed target, MAE will be on the log scale.\n",
    "mae_scorer = make_scorer(mean_absolute_error, greater_is_better=False)\n",
    "\n",
    "print(f\"Performing {n_splits}-fold cross-validation for each model...\\n\")\n",
    "\n",
    "for name, model in models.items():\n",
    "    print(f\"  Evaluating {name} model...\")\n",
    "    try:\n",
    "        # Use R-squared as the primary metric for cross_val_score\n",
    "        # Changed n_jobs from -1 to 1 to avoid _posixsubprocess error\n",
    "        r2_scores = cross_val_score(model, X, y, cv=n_splits, scoring='r2', n_jobs=1)\n",
    "        mean_r2 = r2_scores.mean()\n",
    "        std_r2 = r2_scores.std()\n",
    "\n",
    "        # To get MAE, use neg_mean_absolute_error and convert back to positive\n",
    "        # MAE here will be on the log-transformed scale\n",
    "        # Changed n_jobs from -1 to 1 to avoid _posixsubprocess error\n",
    "        neg_mae_scores = cross_val_score(model, X, y, cv=n_splits, scoring='neg_mean_absolute_error', n_jobs=1)\n",
    "        mean_mae = -neg_mae_scores.mean()\n",
    "        std_mae = neg_mae_scores.std()\n",
    "\n",
    "        cv_results[name] = {\n",
    "            'Mean R2': mean_r2,\n",
    "            'Std R2': std_r2,\n",
    "            'Mean MAE': mean_mae,\n",
    "            'Std MAE': std_mae\n",
    "        }\n",
    "        print(f\"    {name} - Mean R-squared (R2): {mean_r2:.4f} (Std: {std_r2:.4f})\")\n",
    "        print(f\"    {name} - Mean Absolute Error (MAE) (log-scale): {mean_mae:.4f} (Std: {std_mae:.4f})\")\n",
    "    except Exception as e:\n",
    "        print(f\"    Error evaluating {name} with cross-validation: {e}\")\n",
    "        cv_results[name] = {'Mean R2': 'Error', 'Std R2': 'Error', 'Mean MAE': 'Error', 'Std MAE': 'Error'}\n",
    "\n",
    "print(\"\\n--- Summary of Initial K-Fold Cross-Validation Performance ---\")\n",
    "for name, metrics in cv_results.items():\n",
    "    print(f\"Model: {name}\")\n",
    "    # Conditional formatting: check if the value is a float or int before formatting\n",
    "    print(f\"  Mean R2: {metrics['Mean R2']:.4f}\" if isinstance(metrics['Mean R2'], (float, int)) else f\"  Mean R2: {metrics['Mean R2']}\",\n",
    "          f\"(Std: {metrics['Std R2']:.4f})\" if isinstance(metrics['Std R2'], (float, int)) else f\"(Std: {metrics['Std R2']})\")\n",
    "    print(f\"  Mean MAE (log-scale): {metrics['Mean MAE']:.4f}\" if isinstance(metrics['Mean MAE'], (float, int)) else f\"  Mean MAE (log-scale): {metrics['Mean MAE']}\",\n",
    "          f\"(Std: {metrics['Std MAE']:.4f})\" if isinstance(metrics['Std MAE'], (float, int)) else f\"(Std: {metrics['Std MAE']})\")\n",
    "    print(\"-\" * 30)\n",
    "\n",
    "print(\"\\nInitial K-Fold Cross-Validation finished. Proceeding to Hyperparameter Tuning.\")\n"
   ]
  },
  {
   "cell_type": "markdown",
   "metadata": {
    "id": "nxBTeTwk5CjJ"
   },
   "source": [
    "### 5.2 Hyperparameter Tuning with GridSearchCV (for XGBoost)\n",
    "We'll use `GridSearchCV` to systematically search for the best combination of hyperparameters for the XGBoost model. This can be computationally intensive if the grid is too large. We aim for the highest R-squared score.\n",
    "\n",
    "Note: For a truly exhaustive search and potentially higher scores, you might need to broaden these ranges and increase `n_estimators` (e.g., up to 500 or 1000) and/or `max_depth` (e.g., up to 10 or 15), but this will significantly increase computation time."
   ]
  },
  {
   "cell_type": "code",
   "execution_count": 10,
   "metadata": {
    "colab": {
     "base_uri": "https://localhost:8080/"
    },
    "id": "z32NIIa-5HwQ",
    "outputId": "0ff54373-f236-483f-c96d-c90b48496697"
   },
   "outputs": [
    {
     "name": "stdout",
     "output_type": "stream",
     "text": [
      "\n",
      "5.2 Hyperparameter Tuning with GridSearchCV (for XGBoost)...\n",
      "Starting GridSearchCV for XGBoost. This may take some time...\n",
      "\n",
      "--- GridSearchCV Results for XGBoost ---\n",
      "Best parameters found: {'colsample_bytree': 0.7, 'learning_rate': 0.05, 'max_depth': 7, 'n_estimators': 100, 'subsample': 0.9}\n",
      "Best R-squared score (from cross-validation): 0.4375\n"
     ]
    }
   ],
   "source": [
    "# --- 5.2 Hyperparameter Tuning with GridSearchCV (for XGBoost) ---\n",
    "print(\"\\n5.2 Hyperparameter Tuning with GridSearchCV (for XGBoost)...\")\n",
    "\n",
    "# Define the parameter grid for XGBoost - EXPANDED RANGES\n",
    "param_grid_xgb = {\n",
    "    'n_estimators': [100, 300, 500], # Increased max estimators\n",
    "    'max_depth': [3, 5, 7],         # Increased max depth\n",
    "    'learning_rate': [0.005, 0.01, 0.05, 0.1], # Finer granularity and lower values\n",
    "    'subsample': [0.7, 0.8, 0.9],\n",
    "    'colsample_bytree': [0.7, 0.8, 0.9]\n",
    "}\n",
    "\n",
    "xgb_model = XGBRegressor(random_state=42)\n",
    "\n",
    "# Set up GridSearchCV\n",
    "grid_search_xgb = GridSearchCV(\n",
    "    estimator=xgb_model,\n",
    "    param_grid=param_grid_xgb,\n",
    "    scoring='r2',  # Optimize for R-squared\n",
    "    cv=n_splits,   # Use the same number of folds as before\n",
    "    n_jobs=1,     # Changed from -1 to 1 to avoid _posixsubprocess error\n",
    "    verbose=0      # Provide progress updates\n",
    ")\n",
    "\n",
    "print(\"Starting GridSearchCV for XGBoost. This may take some time...\")\n",
    "grid_search_xgb.fit(X, y) # Fit on the full data for cross-validation\n",
    "\n",
    "print(\"\\n--- GridSearchCV Results for XGBoost ---\")\n",
    "print(f\"Best parameters found: {grid_search_xgb.best_params_}\")\n",
    "print(f\"Best R-squared score (from cross-validation): {grid_search_xgb.best_score_:.4f}\")\n",
    "\n",
    "# You can also access the full results:\n",
    "# cv_results_xgb = pd.DataFrame(grid_search_xgb.cv_results_)\n",
    "# print(\"\\nFull GridSearchCV results (first 5 rows):\")\n",
    "# print(cv_results_xgb.head())\n"
   ]
  },
  {
   "cell_type": "markdown",
   "metadata": {
    "id": "TyT0FoKw5TAy"
   },
   "source": [
    "### 5.3 Hyperparameter Tuning with RandomizedSearchCV (for Random Forest)\n",
    "`RandomizedSearchCV` is generally more efficient for larger parameter spaces as it samples a fixed number of parameter settings from specified distributions. This is often preferred over `GridSearchCV` when the search space is vast.\n",
    "\n",
    "Note: We've increased `n_iter` to sample more combinations from the expanded parameter distributions."
   ]
  },
  {
   "cell_type": "code",
   "execution_count": 11,
   "metadata": {
    "colab": {
     "base_uri": "https://localhost:8080/"
    },
    "id": "VKKefubh5YM7",
    "outputId": "9ef56387-65d0-4b4d-9757-93b7b1fa52cd"
   },
   "outputs": [
    {
     "name": "stdout",
     "output_type": "stream",
     "text": [
      "\n",
      "5.3 Hyperparameter Tuning with RandomizedSearchCV (for Random Forest)...\n",
      "Starting RandomizedSearchCV for Random Forest. This may take some time...\n",
      "\n",
      "--- RandomizedSearchCV Results for Random Forest ---\n",
      "Best parameters found: {'bootstrap': True, 'max_depth': 14, 'max_features': 'sqrt', 'min_samples_leaf': 1, 'min_samples_split': 2, 'n_estimators': 576}\n",
      "Best R-squared score (from cross-validation): 0.3186\n"
     ]
    }
   ],
   "source": [
    "# --- 5.3 Hyperparameter Tuning with RandomizedSearchCV (for Random Forest) ---\n",
    "print(\"\\n5.3 Hyperparameter Tuning with RandomizedSearchCV (for Random Forest)...\")\n",
    "\n",
    "from scipy.stats import randint, uniform # For defining distributions\n",
    "\n",
    "# Define the parameter distributions for Random Forest - EXPANDED RANGES\n",
    "param_dist_rf = {\n",
    "    'n_estimators': randint(200, 800), # Increased range for estimators\n",
    "    'max_depth': randint(8, 25),     # Increased range for max depth\n",
    "    'min_samples_split': randint(2, 25), # Slightly wider range\n",
    "    'min_samples_leaf': randint(1, 15),  # Slightly wider range\n",
    "    'max_features': ['auto', 'sqrt', 'log2', uniform(0.5, 0.4)], # Explore a continuous range for fractions\n",
    "    'bootstrap': [True, False]\n",
    "}\n",
    "\n",
    "rf_model = RandomForestRegressor(random_state=42)\n",
    "\n",
    "# Set up RandomizedSearchCV\n",
    "random_search_rf = RandomizedSearchCV(\n",
    "    estimator=rf_model,\n",
    "    param_distributions=param_dist_rf,\n",
    "    n_iter=100,      # Increased number of sampled settings (from 50 to 100)\n",
    "    scoring='r2',    # Optimize for R-squared\n",
    "    cv=n_splits,     # Use the same number of folds\n",
    "    random_state=42, # For reproducibility\n",
    "    n_jobs=1,       # Changed from -1 to 1 to avoid _posixsubprocess error\n",
    "    verbose=0        # Provide progress updates\n",
    ")\n",
    "\n",
    "print(\"Starting RandomizedSearchCV for Random Forest. This may take some time...\")\n",
    "random_search_rf.fit(X, y) # Fit on the full data for cross-validation\n",
    "\n",
    "print(\"\\n--- RandomizedSearchCV Results for Random Forest ---\")\n",
    "print(f\"Best parameters found: {random_search_rf.best_params_}\")\n",
    "print(f\"Best R-squared score (from cross-validation): {random_search_rf.best_score_:.4f}\")\n",
    "\n",
    "# You can also access the full results:\n",
    "# cv_results_rf = pd.DataFrame(random_search_rf.cv_results_)\n",
    "# print(\"\\nFull RandomizedSearchCV results (first 5 rows):\")\n",
    "# print(cv_results_rf.head())\n"
   ]
  },
  {
   "cell_type": "markdown",
   "metadata": {
    "id": "je38ObNu5Zn9"
   },
   "source": [
    "## 6. Ensemble Model Training and Evaluation on Original Scale\n",
    "This section will train the individual best-tuned XGBoost and Random Forest models, combine their predictions using simple averaging, and then evaluate the ensemble model's performance on the original scale of video views using `np.expm1()`."
   ]
  },
  {
   "cell_type": "code",
   "execution_count": 12,
   "metadata": {
    "id": "WdId3nYk5h7Q"
   },
   "outputs": [
    {
     "name": "stdout",
     "output_type": "stream",
     "text": [
      "\n",
      "6.1 Final Model Training (Best Tuned Individual Models)...\n",
      "Best XGBoost model parameters: {'objective': 'reg:squarederror', 'base_score': None, 'booster': None, 'callbacks': None, 'colsample_bylevel': None, 'colsample_bynode': None, 'colsample_bytree': 0.7, 'device': None, 'early_stopping_rounds': None, 'enable_categorical': False, 'eval_metric': None, 'feature_types': None, 'feature_weights': None, 'gamma': None, 'grow_policy': None, 'importance_type': None, 'interaction_constraints': None, 'learning_rate': 0.05, 'max_bin': None, 'max_cat_threshold': None, 'max_cat_to_onehot': None, 'max_delta_step': None, 'max_depth': 7, 'max_leaves': None, 'min_child_weight': None, 'missing': nan, 'monotone_constraints': None, 'multi_strategy': None, 'n_estimators': 100, 'n_jobs': None, 'num_parallel_tree': None, 'random_state': 42, 'reg_alpha': None, 'reg_lambda': None, 'sampling_method': None, 'scale_pos_weight': None, 'subsample': 0.9, 'tree_method': None, 'validate_parameters': None, 'verbosity': None}\n",
      "Best Random Forest model parameters: {'bootstrap': True, 'ccp_alpha': 0.0, 'criterion': 'squared_error', 'max_depth': 14, 'max_features': 'sqrt', 'max_leaf_nodes': None, 'max_samples': None, 'min_impurity_decrease': 0.0, 'min_samples_leaf': 1, 'min_samples_split': 2, 'min_weight_fraction_leaf': 0.0, 'monotonic_cst': None, 'n_estimators': 576, 'n_jobs': None, 'oob_score': False, 'random_state': 42, 'verbose': 0, 'warm_start': False}\n",
      "\n",
      "6.2 Ensemble Prediction and Evaluation on Original Scale...\n",
      "  Ensemble Model (XGBoost + Random Forest) - MAE (Original Scale): 694647037.91\n",
      "  Ensemble Model (XGBoost + Random Forest) - R-squared (Original Scale): 0.9757\n",
      "\n",
      "  Tuned XGBoost Model - MAE (Original Scale): 654378757.97\n",
      "  Tuned XGBoost Model - R-squared (Original Scale): 0.9834\n",
      "\n",
      "  Tuned Random Forest Model - MAE (Original Scale): 772002271.93\n",
      "  Tuned Random Forest Model - R-squared (Original Scale): 0.9642\n",
      "\n",
      "6.3 Example: Predicting for a Hypothetical New Channel with Ensemble...\n",
      "Hypothetical channel's actual views (from dataset, original scale): 228000000000\n",
      "Predicted views for hypothetical channel (ensemble, log-scale): 25.1359\n",
      "Predicted views for hypothetical channel (ensemble, original scale): 82483377222\n",
      "\n",
      "6.4 Feature Importance Analysis...\n",
      "\n",
      "--- XGBoost Feature Importances ---\n",
      "                            Feature  Importance\n",
      "0                       subscribers    0.210479\n",
      "2              created_date_numeric    0.200981\n",
      "4                           uploads    0.131490\n",
      "3                 channel_type_rank    0.093521\n",
      "7                  category_encoded    0.090327\n",
      "1                  video_views_rank    0.085750\n",
      "6      subscribers_for_last_30_days    0.073758\n",
      "8            lowest_yearly_earnings    0.064144\n",
      "5  video_views_for_the_last_30_days    0.049549\n",
      "\n",
      "--- Random Forest Feature Importances ---\n",
      "                            Feature  Importance\n",
      "0                       subscribers    0.313973\n",
      "1                  video_views_rank    0.169539\n",
      "2              created_date_numeric    0.121156\n",
      "3                 channel_type_rank    0.104650\n",
      "5  video_views_for_the_last_30_days    0.077920\n",
      "4                           uploads    0.074356\n",
      "8            lowest_yearly_earnings    0.050082\n",
      "6      subscribers_for_last_30_days    0.045967\n",
      "7                  category_encoded    0.042359\n",
      "\n",
      "--- Averaged Ensemble Feature Importances ---\n",
      "                            Feature  Importance\n",
      "0                       subscribers    0.262226\n",
      "2              created_date_numeric    0.161068\n",
      "1                  video_views_rank    0.127644\n",
      "4                           uploads    0.102923\n",
      "3                 channel_type_rank    0.099086\n",
      "7                  category_encoded    0.066343\n",
      "5  video_views_for_the_last_30_days    0.063734\n",
      "6      subscribers_for_last_30_days    0.059863\n",
      "8            lowest_yearly_earnings    0.057113\n"
     ]
    },
    {
     "data": {
      "image/png": "[encoded data removed]",
      "text/plain": [
       "<Figure size 1200x600 with 1 Axes>"
      ]
     },
     "metadata": {},
     "output_type": "display_data"
    },
    {
     "data": {
      "image/png": "[encoded data removed]",
      "text/plain": [
       "<Figure size 1200x600 with 1 Axes>"
      ]
     },
     "metadata": {},
     "output_type": "display_data"
    },
    {
     "data": {
      "image/png": "[encoded data removed]",
      "text/plain": [
       "<Figure size 1200x600 with 1 Axes>"
      ]
     },
     "metadata": {},
     "output_type": "display_data"
    }
   ],
   "source": [
    "# --- 6.1 Final Model Training (Best Tuned Individual Models) ---\n",
    "print(\"\\n6.1 Final Model Training (Best Tuned Individual Models)...\")\n",
    "\n",
    "# Get the best individual models from tuning\n",
    "final_xgb_model = grid_search_xgb.best_estimator_\n",
    "final_rf_model = random_search_rf.best_estimator_\n",
    "\n",
    "# We don't need to re-fit them here as they were already fitted during GridSearchCV/RandomizedSearchCV\n",
    "# on the full dataset X, y (due to grid_search_xgb.fit(X, y) and random_search_rf.fit(X, y)).\n",
    "# If you had a separate train/test split earlier, you would fit on X_train, y_train here.\n",
    "# For simplicity, since the search was on X, y, we'll proceed directly to prediction.\n",
    "\n",
    "print(f\"Best XGBoost model parameters: {final_xgb_model.get_params()}\")\n",
    "print(f\"Best Random Forest model parameters: {final_rf_model.get_params()}\")\n",
    "\n",
    "# --- 6.2 Ensemble Prediction and Evaluation on Original Scale ---\n",
    "print(\"\\n6.2 Ensemble Prediction and Evaluation on Original Scale...\")\n",
    "\n",
    "# For demonstration, let's use a fresh train-test split for final evaluation.\n",
    "# This ensures we evaluate on data truly unseen by this specific combination.\n",
    "X_train_final, X_test_final, y_train_log, y_test_log = train_test_split(X, y, test_size=0.2, random_state=42)\n",
    "\n",
    "# Make predictions from each model on the log-transformed test set\n",
    "y_pred_xgb_log = final_xgb_model.predict(X_test_final)\n",
    "y_pred_rf_log = final_rf_model.predict(X_test_final)\n",
    "\n",
    "# Average the predictions (still on the log-scale)\n",
    "y_pred_ensemble_log = (y_pred_xgb_log + y_pred_rf_log) / 2\n",
    "\n",
    "# Get the corresponding original y_test values for evaluation\n",
    "df_original_y = pd.read_csv('Global-YouTube-Statistics.csv', encoding='latin1')\n",
    "y_original_scale = df_original_y[target]\n",
    "y_test_original_for_eval = y_original_scale.loc[y_test_log.index]\n",
    "\n",
    "# Convert ensemble predictions AND actual values back to original scale for MAE/R2 calculation\n",
    "y_pred_ensemble_original_scale = np.expm1(y_pred_ensemble_log)\n",
    "# The y_test_original_for_eval is already untransformed\n",
    "\n",
    "# Calculate metrics for the ensemble on the original scale\n",
    "mae_ensemble_original = mean_absolute_error(y_test_original_for_eval, y_pred_ensemble_original_scale)\n",
    "r2_ensemble_original = r2_score(y_test_original_for_eval, y_pred_ensemble_original_scale)\n",
    "\n",
    "print(f\"  Ensemble Model (XGBoost + Random Forest) - MAE (Original Scale): {mae_ensemble_original:.2f}\")\n",
    "print(f\"  Ensemble Model (XGBoost + Random Forest) - R-squared (Original Scale): {r2_ensemble_original:.4f}\")\n",
    "\n",
    "# You might also want to compare with individual tuned models on original scale\n",
    "y_pred_xgb_original_scale = np.expm1(y_pred_xgb_log)\n",
    "mae_xgb_original = mean_absolute_error(y_test_original_for_eval, y_pred_xgb_original_scale)\n",
    "r2_xgb_original = r2_score(y_test_original_for_eval, y_pred_xgb_original_scale)\n",
    "print(f\"\\n  Tuned XGBoost Model - MAE (Original Scale): {mae_xgb_original:.2f}\")\n",
    "print(f\"  Tuned XGBoost Model - R-squared (Original Scale): {r2_xgb_original:.4f}\")\n",
    "\n",
    "y_pred_rf_original_scale = np.expm1(y_pred_rf_log)\n",
    "mae_rf_original = mean_absolute_error(y_test_original_for_eval, y_pred_rf_original_scale)\n",
    "r2_rf_original = r2_score(y_test_original_for_eval, y_pred_rf_original_scale)\n",
    "print(f\"\\n  Tuned Random Forest Model - MAE (Original Scale): {mae_rf_original:.2f}\")\n",
    "print(f\"  Tuned Random Forest Model - R-squared (Original Scale): {r2_rf_original:.4f}\")\n",
    "\n",
    "\n",
    "# --- 6.3 Example: Predicting for a Hypothetical New Channel with Ensemble ---\n",
    "print(\"\\n6.3 Example: Predicting for a Hypothetical New Channel with Ensemble...\")\n",
    "\n",
    "# For simplicity, let's take the first row of your original (scaled) X as an example,\n",
    "# and pretend it's a 'new' channel to show the full prediction process.\n",
    "# In a real scenario, you would have raw data for a new channel, then apply your label_encoders and scaler.\n",
    "sample_new_channel_features_scaled = X.iloc[[0]] # Get one row from your already processed X\n",
    "sample_original_views = np.expm1(y.iloc[0]) # Get its original views for comparison\n",
    "\n",
    "print(f\"Hypothetical channel's actual views (from dataset, original scale): {sample_original_views:.0f}\")\n",
    "\n",
    "# Predict on the log scale with each model\n",
    "predicted_log_views_xgb = final_xgb_model.predict(sample_new_channel_features_scaled)\n",
    "predicted_log_views_rf = final_rf_model.predict(sample_new_channel_features_scaled)\n",
    "\n",
    "# Average the log-scale predictions\n",
    "predicted_log_views_ensemble = (predicted_log_views_xgb + predicted_log_views_rf) / 2\n",
    "\n",
    "# Convert ensemble prediction back to original scale\n",
    "predicted_original_views_ensemble = np.expm1(predicted_log_views_ensemble)\n",
    "\n",
    "print(f\"Predicted views for hypothetical channel (ensemble, log-scale): {predicted_log_views_ensemble[0]:.4f}\")\n",
    "print(f\"Predicted views for hypothetical channel (ensemble, original scale): {predicted_original_views_ensemble[0]:.0f}\")\n",
    "\n",
    "# --- 6.4 Feature Importance Analysis ---\n",
    "print(\"\\n6.4 Feature Importance Analysis...\")\n",
    "\n",
    "# Feature importances from the best-tuned XGBoost model\n",
    "xgb_feature_importances = final_xgb_model.feature_importances_\n",
    "xgb_features_df = pd.DataFrame({\n",
    "    'Feature': X.columns,\n",
    "    'Importance': xgb_feature_importances\n",
    "}).sort_values(by='Importance', ascending=False)\n",
    "\n",
    "print(\"\\n--- XGBoost Feature Importances ---\")\n",
    "print(xgb_features_df)\n",
    "\n",
    "# Feature importances from the best-tuned Random Forest model\n",
    "rf_feature_importances = final_rf_model.feature_importances_\n",
    "rf_features_df = pd.DataFrame({\n",
    "    'Feature': X.columns,\n",
    "    'Importance': rf_feature_importances\n",
    "}).sort_values(by='Importance', ascending=False)\n",
    "\n",
    "print(\"\\n--- Random Forest Feature Importances ---\")\n",
    "print(rf_features_df)\n",
    "\n",
    "# Optional: You can also average the importances if you want a combined view\n",
    "# Ensure features are in the same order\n",
    "averaged_importances = (xgb_feature_importances + rf_feature_importances) / 2\n",
    "averaged_features_df = pd.DataFrame({\n",
    "     'Feature': X.columns,\n",
    "     'Importance': averaged_importances\n",
    " }).sort_values(by='Importance', ascending=False)\n",
    "print(\"\\n--- Averaged Ensemble Feature Importances ---\")\n",
    "print(averaged_features_df)\n",
    "\n",
    "# Optional: Visualization of Feature Importances\n",
    "import matplotlib.pyplot as plt\n",
    "import seaborn as sns\n",
    "\n",
    "plt.figure(figsize=(12, 6))\n",
    "sns.barplot(x='Importance', y='Feature', data=xgb_features_df.head(9))\n",
    "plt.title('Top 10 XGBoost Features')\n",
    "plt.show()\n",
    "\n",
    "plt.figure(figsize=(12, 6))\n",
    "sns.barplot(x='Importance', y='Feature', data=averaged_features_df.head(9))\n",
    "plt.title('Top 10 Averaged Features')\n",
    "plt.show()\n",
    "\n",
    "plt.figure(figsize=(12, 6))\n",
    "sns.barplot(x='Importance', y='Feature', data=rf_features_df.head(9))\n",
    "plt.title('Top 10 Random Forest Features')\n",
    "plt.show()\n"
   ]
  },
  {
   "cell_type": "markdown",
   "metadata": {
    "id": "FVVz91br5kia"
   },
   "source": [
    "## 7. Conclusion and Next Steps\n",
    "This notebook now provides a comprehensive machine learning pipeline, including initial baseline evaluation with k-fold cross-validation, hyperparameter tuning for individual models, and the training and evaluation of an averaging ensemble model combining XGBoost and Random Forest. Crucially, it includes evaluation and prediction examples on the original scale of video views using `np.expm1()`, which provides more directly interpretable results for your target audience.\n",
    "\n",
    "To finalize your research project and discussion:\n",
    "\n",
    "1. Re-run the Notebook from Top to Bottom: This is essential to apply all changes, including the `np.log1p()` transformation, the expanded hyperparameter search ranges, and to train and evaluate the new ensemble model.\n",
    "\n",
    "2. Analyze Ensemble Performance: Compare the MAE and R-squared values of the ensemble model on the original scale against the individual tuned models. See if the ensemble provides a notable improvement.\n",
    "\n",
    "3. Feature Importance Analysis: You can still extract feature importances from your individual `final_xgb_model` and `final_rf_model` to understand their individual contributions. For an ensemble, it's harder to get a single, combined feature importance directly, but you can discuss the importances from each component.\n",
    "\n",
    "4. Deeper Error Analysis: Compare `y_pred_ensemble_original_scale` with `y_test_original_for_eval`. Look at channels where your ensemble model made the largest errors. Are they very large channels? Channels from specific countries or categories? This can lead to valuable insights for your discussion.\n",
    "\n",
    "5. Refine Feature Engineering: Based on error analysis or feature importance, you might get ideas for creating even more powerful features (e.g., ratios, interactions, custom aggregations). This is often the biggest driver of R-squared improvement when models are already well-tuned.\n",
    "\n",
    "6. Report Writing: Structure your research paper discussing your methodology, the challenges of skewed data and how you addressed it (log transformation), the results from baseline CV, the tuning process, the ensemble approach and its performance, and insights from feature importance and error analysis.\n",
    "\n",
    "This should give you a very strong and impressive foundation for your university research project!"
   ]
  },
  {
   "cell_type": "code",
   "execution_count": null,
   "metadata": {},
   "outputs": [],
   "source": []
  },
  {
   "cell_type": "code",
   "execution_count": null,
   "metadata": {},
   "outputs": [],
   "source": []
  }
 ],
 "metadata": {
  "colab": {
   "provenance": []
  },
  "kernelspec": {
   "display_name": "Python 3 (ipykernel)",
   "language": "python",
   "name": "python3"
  },
  "language_info": {
   "codemirror_mode": {
    "name": "ipython",
    "version": 3
   },
   "file_extension": ".py",
   "mimetype": "text/x-python",
   "name": "python",
   "nbconvert_exporter": "python",
   "pygments_lexer": "ipython3",
   "version": "3.13.7"
  }
 },
 "nbformat": 4,
 "nbformat_minor": 4
}
